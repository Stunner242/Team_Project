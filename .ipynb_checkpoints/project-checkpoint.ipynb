{
 "cells": [
  {
   "cell_type": "code",
   "execution_count": null,
   "id": "47eb28a1-70c8-4494-85b8-2e0db27153da",
   "metadata": {},
   "outputs": [
    {
     "ename": "ModuleNotFoundError",
     "evalue": "No module named 'cv2'",
     "output_type": "error",
     "traceback": [
      "\u001b[1;31m---------------------------------------------------------------------------\u001b[0m",
      "\u001b[1;31mModuleNotFoundError\u001b[0m                       Traceback (most recent call last)",
      "Cell \u001b[1;32mIn[1], line 1\u001b[0m\n\u001b[1;32m----> 1\u001b[0m \u001b[38;5;28;01mimport\u001b[39;00m \u001b[38;5;21;01mcv2\u001b[39;00m\n\u001b[0;32m      2\u001b[0m \u001b[38;5;28;01mimport\u001b[39;00m \u001b[38;5;21;01mnumpy\u001b[39;00m \u001b[38;5;28;01mas\u001b[39;00m \u001b[38;5;21;01mnp\u001b[39;00m\n\u001b[0;32m      3\u001b[0m \u001b[38;5;28;01mimport\u001b[39;00m \u001b[38;5;21;01mtime\u001b[39;00m\n",
      "\u001b[1;31mModuleNotFoundError\u001b[0m: No module named 'cv2'"
     ]
    }
   ],
   "source": [
    "import cv2\n",
    "import numpy as np\n",
    "import time\n",
    "\n",
    "desktop_path = r\"C:\\Users\\thebo\\OneDrive\\Desktop\\Capture image\"\n",
    "cap = cv2.VideoCapture(0)\n",
    "\n",
    "# Flag to indicate capturing state (default: False)\n",
    "capturing = False\n",
    "\n",
    "while True:\n",
    "  ret, frame = cap.read()\n",
    "\n",
    "  if not ret:\n",
    "    print(\"Error: Could not capture frame from webcam.\")\n",
    "    break\n",
    "\n",
    "  # Display the captured frame (optional)\n",
    "  cv2.imshow(\"Capture Window\", frame)\n",
    "\n",
    "  # Capture image if 'space' key is pressed and capturing is not already active\n",
    "  if cv2.waitKey(1) & 0xFF == ord(' ') and not capturing:\n",
    "    capturing = True\n",
    "    filename = f\"captured_image_{time.time()}{'.jpg'}\"  # Use current time for unique filename\n",
    "    cv2.imwrite(desktop_path + filename, frame)\n",
    "    print(\"Image saved successfully to:\", desktop_path + filename)\n",
    "\n",
    "  # Stop capturing if 'q' key is pressed or capturing is already active and 'space' is pressed\n",
    "  if cv2.waitKey(1) & 0xFF == ord('q') or (capturing and cv2.waitKey(1) & 0xFF == ord(' ')):\n",
    "    break\n",
    "\n",
    "  capturing = False  # Reset capturing flag after stopping capture\n",
    "\n",
    "cap.release()\n",
    "cv2.destroyAllWindows()\n",
    "\n"
   ]
  },
  {
   "cell_type": "code",
   "execution_count": null,
   "id": "7fb4d3b8-de9e-4f28-b4cb-abef0fc7a6cc",
   "metadata": {},
   "outputs": [],
   "source": []
  }
 ],
 "metadata": {
  "kernelspec": {
   "display_name": "Python 3 (ipykernel)",
   "language": "python",
   "name": "python3"
  },
  "language_info": {
   "codemirror_mode": {
    "name": "ipython",
    "version": 3
   },
   "file_extension": ".py",
   "mimetype": "text/x-python",
   "name": "python",
   "nbconvert_exporter": "python",
   "pygments_lexer": "ipython3",
   "version": "3.11.7"
  }
 },
 "nbformat": 4,
 "nbformat_minor": 5
}
